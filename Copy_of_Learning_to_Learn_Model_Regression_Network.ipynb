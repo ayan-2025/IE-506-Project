{
  "nbformat": 4,
  "nbformat_minor": 0,
  "metadata": {
    "colab": {
      "provenance": [],
      "include_colab_link": true
    },
    "kernelspec": {
      "name": "python3",
      "display_name": "Python 3"
    },
    "language_info": {
      "name": "python"
    }
  },
  "cells": [
    {
      "cell_type": "markdown",
      "metadata": {
        "id": "view-in-github",
        "colab_type": "text"
      },
      "source": [
        "<a href=\"https://colab.research.google.com/github/ayan-2025/IE-506-Project/blob/main/Copy_of_Learning_to_Learn_Model_Regression_Network.ipynb\" target=\"_parent\"><img src=\"https://colab.research.google.com/assets/colab-badge.svg\" alt=\"Open In Colab\"/></a>"
      ]
    },
    {
      "cell_type": "code",
      "execution_count": null,
      "metadata": {
        "colab": {
          "base_uri": "https://localhost:8080/"
        },
        "id": "Up7REiYqLv18",
        "outputId": "69b5592d-ae33-48d8-8f9b-996a98c35da1"
      },
      "outputs": [
        {
          "output_type": "stream",
          "name": "stdout",
          "text": [
            "Mounted at /content/drive/\n"
          ]
        },
        {
          "output_type": "execute_result",
          "data": {
            "text/plain": [
              "{'data': array([[ 0.,  0.,  5., ...,  0.,  0.,  0.],\n",
              "        [ 0.,  0.,  0., ..., 10.,  0.,  0.],\n",
              "        [ 0.,  0.,  0., ..., 16.,  9.,  0.],\n",
              "        ...,\n",
              "        [ 0.,  0.,  1., ...,  6.,  0.,  0.],\n",
              "        [ 0.,  0.,  2., ..., 12.,  0.,  0.],\n",
              "        [ 0.,  0., 10., ..., 12.,  1.,  0.]]),\n",
              " 'target': array([0, 1, 2, ..., 8, 9, 8]),\n",
              " 'frame': None,\n",
              " 'feature_names': ['pixel_0_0',\n",
              "  'pixel_0_1',\n",
              "  'pixel_0_2',\n",
              "  'pixel_0_3',\n",
              "  'pixel_0_4',\n",
              "  'pixel_0_5',\n",
              "  'pixel_0_6',\n",
              "  'pixel_0_7',\n",
              "  'pixel_1_0',\n",
              "  'pixel_1_1',\n",
              "  'pixel_1_2',\n",
              "  'pixel_1_3',\n",
              "  'pixel_1_4',\n",
              "  'pixel_1_5',\n",
              "  'pixel_1_6',\n",
              "  'pixel_1_7',\n",
              "  'pixel_2_0',\n",
              "  'pixel_2_1',\n",
              "  'pixel_2_2',\n",
              "  'pixel_2_3',\n",
              "  'pixel_2_4',\n",
              "  'pixel_2_5',\n",
              "  'pixel_2_6',\n",
              "  'pixel_2_7',\n",
              "  'pixel_3_0',\n",
              "  'pixel_3_1',\n",
              "  'pixel_3_2',\n",
              "  'pixel_3_3',\n",
              "  'pixel_3_4',\n",
              "  'pixel_3_5',\n",
              "  'pixel_3_6',\n",
              "  'pixel_3_7',\n",
              "  'pixel_4_0',\n",
              "  'pixel_4_1',\n",
              "  'pixel_4_2',\n",
              "  'pixel_4_3',\n",
              "  'pixel_4_4',\n",
              "  'pixel_4_5',\n",
              "  'pixel_4_6',\n",
              "  'pixel_4_7',\n",
              "  'pixel_5_0',\n",
              "  'pixel_5_1',\n",
              "  'pixel_5_2',\n",
              "  'pixel_5_3',\n",
              "  'pixel_5_4',\n",
              "  'pixel_5_5',\n",
              "  'pixel_5_6',\n",
              "  'pixel_5_7',\n",
              "  'pixel_6_0',\n",
              "  'pixel_6_1',\n",
              "  'pixel_6_2',\n",
              "  'pixel_6_3',\n",
              "  'pixel_6_4',\n",
              "  'pixel_6_5',\n",
              "  'pixel_6_6',\n",
              "  'pixel_6_7',\n",
              "  'pixel_7_0',\n",
              "  'pixel_7_1',\n",
              "  'pixel_7_2',\n",
              "  'pixel_7_3',\n",
              "  'pixel_7_4',\n",
              "  'pixel_7_5',\n",
              "  'pixel_7_6',\n",
              "  'pixel_7_7'],\n",
              " 'target_names': array([0, 1, 2, 3, 4, 5, 6, 7, 8, 9]),\n",
              " 'images': array([[[ 0.,  0.,  5., ...,  1.,  0.,  0.],\n",
              "         [ 0.,  0., 13., ..., 15.,  5.,  0.],\n",
              "         [ 0.,  3., 15., ..., 11.,  8.,  0.],\n",
              "         ...,\n",
              "         [ 0.,  4., 11., ..., 12.,  7.,  0.],\n",
              "         [ 0.,  2., 14., ..., 12.,  0.,  0.],\n",
              "         [ 0.,  0.,  6., ...,  0.,  0.,  0.]],\n",
              " \n",
              "        [[ 0.,  0.,  0., ...,  5.,  0.,  0.],\n",
              "         [ 0.,  0.,  0., ...,  9.,  0.,  0.],\n",
              "         [ 0.,  0.,  3., ...,  6.,  0.,  0.],\n",
              "         ...,\n",
              "         [ 0.,  0.,  1., ...,  6.,  0.,  0.],\n",
              "         [ 0.,  0.,  1., ...,  6.,  0.,  0.],\n",
              "         [ 0.,  0.,  0., ..., 10.,  0.,  0.]],\n",
              " \n",
              "        [[ 0.,  0.,  0., ..., 12.,  0.,  0.],\n",
              "         [ 0.,  0.,  3., ..., 14.,  0.,  0.],\n",
              "         [ 0.,  0.,  8., ..., 16.,  0.,  0.],\n",
              "         ...,\n",
              "         [ 0.,  9., 16., ...,  0.,  0.,  0.],\n",
              "         [ 0.,  3., 13., ..., 11.,  5.,  0.],\n",
              "         [ 0.,  0.,  0., ..., 16.,  9.,  0.]],\n",
              " \n",
              "        ...,\n",
              " \n",
              "        [[ 0.,  0.,  1., ...,  1.,  0.,  0.],\n",
              "         [ 0.,  0., 13., ...,  2.,  1.,  0.],\n",
              "         [ 0.,  0., 16., ..., 16.,  5.,  0.],\n",
              "         ...,\n",
              "         [ 0.,  0., 16., ..., 15.,  0.,  0.],\n",
              "         [ 0.,  0., 15., ..., 16.,  0.,  0.],\n",
              "         [ 0.,  0.,  2., ...,  6.,  0.,  0.]],\n",
              " \n",
              "        [[ 0.,  0.,  2., ...,  0.,  0.,  0.],\n",
              "         [ 0.,  0., 14., ..., 15.,  1.,  0.],\n",
              "         [ 0.,  4., 16., ..., 16.,  7.,  0.],\n",
              "         ...,\n",
              "         [ 0.,  0.,  0., ..., 16.,  2.,  0.],\n",
              "         [ 0.,  0.,  4., ..., 16.,  2.,  0.],\n",
              "         [ 0.,  0.,  5., ..., 12.,  0.,  0.]],\n",
              " \n",
              "        [[ 0.,  0., 10., ...,  1.,  0.,  0.],\n",
              "         [ 0.,  2., 16., ...,  1.,  0.,  0.],\n",
              "         [ 0.,  0., 15., ..., 15.,  0.,  0.],\n",
              "         ...,\n",
              "         [ 0.,  4., 16., ..., 16.,  6.,  0.],\n",
              "         [ 0.,  8., 16., ..., 16.,  8.,  0.],\n",
              "         [ 0.,  1.,  8., ..., 12.,  1.,  0.]]]),\n",
              " 'DESCR': \".. _digits_dataset:\\n\\nOptical recognition of handwritten digits dataset\\n--------------------------------------------------\\n\\n**Data Set Characteristics:**\\n\\n    :Number of Instances: 1797\\n    :Number of Attributes: 64\\n    :Attribute Information: 8x8 image of integer pixels in the range 0..16.\\n    :Missing Attribute Values: None\\n    :Creator: E. Alpaydin (alpaydin '@' boun.edu.tr)\\n    :Date: July; 1998\\n\\nThis is a copy of the test set of the UCI ML hand-written digits datasets\\nhttps://archive.ics.uci.edu/ml/datasets/Optical+Recognition+of+Handwritten+Digits\\n\\nThe data set contains images of hand-written digits: 10 classes where\\neach class refers to a digit.\\n\\nPreprocessing programs made available by NIST were used to extract\\nnormalized bitmaps of handwritten digits from a preprinted form. From a\\ntotal of 43 people, 30 contributed to the training set and different 13\\nto the test set. 32x32 bitmaps are divided into nonoverlapping blocks of\\n4x4 and the number of on pixels are counted in each block. This generates\\nan input matrix of 8x8 where each element is an integer in the range\\n0..16. This reduces dimensionality and gives invariance to small\\ndistortions.\\n\\nFor info on NIST preprocessing routines, see M. D. Garris, J. L. Blue, G.\\nT. Candela, D. L. Dimmick, J. Geist, P. J. Grother, S. A. Janet, and C.\\nL. Wilson, NIST Form-Based Handprint Recognition System, NISTIR 5469,\\n1994.\\n\\n.. topic:: References\\n\\n  - C. Kaynak (1995) Methods of Combining Multiple Classifiers and Their\\n    Applications to Handwritten Digit Recognition, MSc Thesis, Institute of\\n    Graduate Studies in Science and Engineering, Bogazici University.\\n  - E. Alpaydin, C. Kaynak (1998) Cascading Classifiers, Kybernetika.\\n  - Ken Tang and Ponnuthurai N. Suganthan and Xi Yao and A. Kai Qin.\\n    Linear dimensionalityreduction using relevance weighted LDA. School of\\n    Electrical and Electronic Engineering Nanyang Technological University.\\n    2005.\\n  - Claudio Gentile. A New Approximate Maximal Margin Classification\\n    Algorithm. NIPS. 2000.\\n\"}"
            ]
          },
          "metadata": {},
          "execution_count": 1
        }
      ],
      "source": [
        "import pandas as pd\n",
        "import matplotlib.pyplot as plt\n",
        "import numpy as np\n",
        "%matplotlib inline\n",
        "from google.colab import drive\n",
        "drive.mount('/content/drive/')\n",
        "import warnings\n",
        "warnings.filterwarnings('ignore')\n",
        "\n",
        "from sklearn.datasets import load_digits\n",
        "\n",
        "digits = load_digits()\n",
        "digits"
      ]
    },
    {
      "cell_type": "code",
      "source": [
        "X = digits.data\n",
        "y = digits.target\n"
      ],
      "metadata": {
        "id": "73deMTo0rrSM"
      },
      "execution_count": null,
      "outputs": []
    },
    {
      "cell_type": "markdown",
      "source": [
        "Now we are making Model pair set"
      ],
      "metadata": {
        "id": "LcqrYk9cBSI6"
      }
    },
    {
      "cell_type": "code",
      "source": [
        "from sklearn.svm import SVC\n",
        "from sklearn.svm import LinearSVC\n",
        "from sklearn.model_selection import GridSearchCV\n",
        "from sklearn.datasets import make_classification\n",
        "from sklearn.model_selection import train_test_split as split\n",
        "from sklearn.utils import resample\n",
        "from sklearn.metrics import accuracy_score\n",
        "\n",
        "\n",
        "model_X = []\n",
        "model_y = []\n",
        "samples_for_w = np.zeros((1,129))\n",
        "\n",
        "for i in range(0,8):\n",
        "\n",
        "   negative_examples = digits.data[digits.target != i]\n",
        "   num_negative_examples = 100\n",
        "   negative_examples_subsampled = resample(negative_examples, n_samples=num_negative_examples, random_state=42)\n",
        "\n",
        "   subsampled_X = np.vstack((digits.data[digits.target == i], negative_examples_subsampled))\n",
        "   subsampled_y = np.hstack((np.ones(np.count_nonzero(digits.target == i)), np.zeros(num_negative_examples)))\n",
        "\n",
        "   random_state_C_map = {0: 0.01, 42: 0.1, 123: 1, 130: 10, 140: 100}\n",
        "\n",
        "   train_X, test_X, train_y, test_y = split(subsampled_X, subsampled_y, test_size=0.1, shuffle=True, random_state=0)\n",
        "   param_grid = {'C': [0.0001, 0.001, 0.01, 0.1, 1, 10]}\n",
        "   svm = SVC(kernel='linear')\n",
        "   grid_search = GridSearchCV(svm, param_grid, cv=5)\n",
        "   grid_search.fit(train_X, train_y)\n",
        "   C = grid_search.best_params_['C']\n",
        "   svm = SVC(kernel='linear', C=C)\n",
        "   svm.fit(train_X, train_y)\n",
        "   w_1 = svm.coef_\n",
        "\n",
        "   print(\"For class: \", i)\n",
        "   print(\"Best parameters:\", grid_search.best_params_)\n",
        "   print(\"Accuracy:\", grid_search.score(test_X, test_y))\n",
        "   print(\"w_1 value: \", w_1)\n",
        "\n",
        "   #Here we are associating w_1 to sample data which will help us during hinge loss calculation in myloss definition\n",
        "   new_shape = (len(subsampled_X), 64)\n",
        "   a = np.tile(w_1, (new_shape[0], 1))\n",
        "   subsampled_y = np.reshape(subsampled_y, (subsampled_y.shape[0], 1))\n",
        "   b = np.concatenate((subsampled_X, a, subsampled_y), axis=1)\n",
        "   samples_for_w = np.concatenate((samples_for_w, b), axis=0)\n",
        "   #Now split it\n",
        "   #X_for_w, w, y_for_w = np.split(samples_for_w, [64, 128], axis=1)\n",
        "\n",
        "   for random_state in random_state_C_map.keys():\n",
        "     train_small_X, test_small_X, train_small_y, test_small_y = split(train_X, train_y, test_size=0.3, shuffle=True, random_state=random_state) #check point\n",
        "     C = random_state_C_map[random_state]\n",
        "     svm = SVC(kernel='linear', C=C)\n",
        "     svm.fit(test_small_X, test_small_y) #check point\n",
        "     w_0 = svm.coef_\n",
        "     model_X.append(w_0)\n",
        "     model_y.append(w_1)\n",
        "     y_pred = svm.predict(train_small_X)\n",
        "     acc = accuracy_score(train_small_y, y_pred)\n",
        "     print('Accuracy:', acc)\n"
      ],
      "metadata": {
        "id": "Q03iydeIfpfg",
        "colab": {
          "base_uri": "https://localhost:8080/"
        },
        "outputId": "2456911a-4c99-44f6-ad1a-ef62f090dcdb"
      },
      "execution_count": null,
      "outputs": [
        {
          "output_type": "stream",
          "name": "stdout",
          "text": [
            "For class:  0\n",
            "Best parameters: {'C': 0.01}\n",
            "Accuracy: 0.9642857142857143\n",
            "w_1 value:  [[ 0.         -0.00376754  0.00164488 -0.00365262  0.01999387 -0.03035701\n",
            "  -0.02004712 -0.00257044  0.         -0.00249962  0.01324345  0.00494497\n",
            "   0.01498534  0.01265705 -0.01536988 -0.00428407  0.          0.00727835\n",
            "   0.00868332 -0.00857294 -0.05415125  0.02344857 -0.00488783  0.\n",
            "   0.         -0.00225928  0.0026194  -0.01762128 -0.0681159   0.01533101\n",
            "   0.02252755  0.          0.          0.00436789  0.02711768 -0.0356569\n",
            "  -0.09287035  0.01174365  0.02025057  0.          0.          0.00204157\n",
            "   0.04872    -0.02196616 -0.00621981 -0.00360667  0.00123086  0.\n",
            "   0.         -0.00810443  0.0226691  -0.00130789  0.01430254 -0.01273565\n",
            "  -0.01075727  0.          0.         -0.00024006 -0.00407521 -0.00536095\n",
            "   0.00668131 -0.02022862 -0.02318745 -0.0084211 ]]\n",
            "Accuracy: 0.9771428571428571\n",
            "Accuracy: 0.9885714285714285\n",
            "Accuracy: 1.0\n",
            "Accuracy: 1.0\n",
            "Accuracy: 0.9942857142857143\n",
            "For class:  1\n",
            "Best parameters: {'C': 0.001}\n",
            "Accuracy: 1.0\n",
            "w_1 value:  [[ 0.         -0.00360839 -0.01994686 -0.02590059 -0.06323811  0.01900333\n",
            "  -0.00494493 -0.015       0.         -0.03282938 -0.03993353  0.01265368\n",
            "   0.00537919  0.02411371 -0.0135685  -0.01        0.002       0.01228539\n",
            "   0.01604812  0.08358572  0.04867613  0.01693696 -0.0019879  -0.001\n",
            "   0.001      -0.02151052 -0.00753366  0.04420271  0.01304684  0.00057733\n",
            "  -0.02413371  0.          0.         -0.02657241  0.00493478  0.02201475\n",
            "  -0.00356881 -0.01175446 -0.02307168  0.          0.         -0.01241469\n",
            "  -0.00994743  0.00263219  0.02127185 -0.03022201 -0.03142101 -0.001\n",
            "   0.         -0.01143872 -0.01179625  0.01833132  0.00280087  0.00165238\n",
            "  -0.03181056  0.00319436  0.         -0.0047063  -0.03898725 -0.00781439\n",
            "   0.01871235  0.026907    0.00565582  0.01747562]]\n",
            "Accuracy: 0.9265536723163842\n",
            "Accuracy: 0.9378531073446328\n",
            "Accuracy: 0.8870056497175142\n",
            "Accuracy: 0.9491525423728814\n",
            "Accuracy: 0.9378531073446328\n",
            "For class:  2\n",
            "Best parameters: {'C': 0.01}\n",
            "Accuracy: 1.0\n",
            "w_1 value:  [[ 0.          0.0087062  -0.00252958 -0.006365   -0.00307563 -0.04787574\n",
            "  -0.00668766  0.          0.          0.06362818  0.06803532 -0.00842788\n",
            "   0.05531534  0.00244998  0.00973905  0.          0.          0.00383107\n",
            "   0.00475627 -0.03180672  0.03089827  0.01458142  0.01447689  0.\n",
            "   0.         -0.01736073 -0.09000691 -0.07050512 -0.03505568  0.02955112\n",
            "  -0.00641489  0.          0.         -0.02297481 -0.0248044  -0.02992152\n",
            "  -0.03131702 -0.02746221 -0.05924846  0.          0.         -0.01747966\n",
            "   0.02943645  0.08502427 -0.01842737 -0.05312524 -0.07699238  0.0009316\n",
            "   0.00283334  0.03272128 -0.00398319  0.0606663   0.01850375  0.03332055\n",
            "   0.01863239  0.00806829  0.00094445  0.02666473 -0.00066313  0.00237927\n",
            "  -0.00151481  0.03033567  0.05828206 -0.00666332]]\n",
            "Accuracy: 0.9770114942528736\n",
            "Accuracy: 0.9827586206896551\n",
            "Accuracy: 0.9482758620689655\n",
            "Accuracy: 0.8735632183908046\n",
            "Accuracy: 1.0\n",
            "For class:  3\n",
            "Best parameters: {'C': 0.001}\n",
            "Accuracy: 1.0\n",
            "w_1 value:  [[ 0.         -0.00066242 -0.0172851   0.00432951  0.04323284  0.00564988\n",
            "  -0.00322     0.001       0.          0.0104429   0.02165883  0.03032437\n",
            "   0.00468855  0.02825947  0.02400795  0.001       0.          0.00077765\n",
            "  -0.05975106 -0.02239165  0.03597183 -0.01081518  0.0048092   0.\n",
            "   0.         -0.01724307 -0.05490062 -0.02002006  0.01803518 -0.05372254\n",
            "  -0.0325714   0.          0.         -0.01160078 -0.01582369  0.00337504\n",
            "   0.00350163  0.00977786 -0.01423898  0.          0.          0.00280462\n",
            "  -0.02204525 -0.04959591  0.00096519  0.05683296  0.042171    0.\n",
            "   0.         -0.01461647 -0.00597872 -0.01178203 -0.00188879  0.00757212\n",
            "   0.03678244 -0.00588919  0.         -0.00178948 -0.00432262  0.01514449\n",
            "  -0.01326465 -0.02258215 -0.02303365 -0.01576673]]\n",
            "Accuracy: 0.9322033898305084\n",
            "Accuracy: 0.9265536723163842\n",
            "Accuracy: 0.9378531073446328\n",
            "Accuracy: 0.9096045197740112\n",
            "Accuracy: 0.9096045197740112\n",
            "For class:  4\n",
            "Best parameters: {'C': 0.001}\n",
            "Accuracy: 0.9310344827586207\n",
            "w_1 value:  [[ 0.00000000e+00  0.00000000e+00 -2.45664349e-02 -4.39439016e-02\n",
            "  -2.56549690e-02 -1.94511235e-02 -2.74478036e-02 -3.00000000e-03\n",
            "   0.00000000e+00 -9.27834382e-04 -2.70529340e-02 -3.00615033e-02\n",
            "  -4.52391830e-02 -3.75327845e-02 -1.68113395e-02 -5.00000000e-03\n",
            "   0.00000000e+00  8.70399001e-03  8.33639855e-03  1.87830108e-02\n",
            "  -8.79053263e-04  4.43513392e-03 -1.73982738e-04  3.10049289e-05\n",
            "   1.00000000e-03  2.58165824e-02  2.56779992e-02 -3.95835502e-03\n",
            "   7.78945778e-03  1.63561142e-02  3.36437587e-02  0.00000000e+00\n",
            "   0.00000000e+00  1.53233762e-02  6.81050298e-03 -1.71942447e-03\n",
            "   4.69505317e-03  7.44521513e-03  2.76045870e-02  0.00000000e+00\n",
            "   0.00000000e+00  3.07243485e-02  7.70687301e-05  2.31929932e-02\n",
            "   2.31586165e-02  1.03604941e-02  9.98018174e-04 -6.06606303e-04\n",
            "   0.00000000e+00  2.14531960e-02 -2.27855597e-02 -5.09190294e-03\n",
            "   1.26428497e-02 -3.04312172e-02 -4.01507932e-02 -2.06717327e-03\n",
            "   0.00000000e+00  7.51525753e-04 -2.12811229e-02 -2.99592997e-02\n",
            "   3.63983485e-03 -3.39074851e-02 -1.03045064e-02 -6.06606303e-04]]\n",
            "Accuracy: 0.9545454545454546\n",
            "Accuracy: 0.9772727272727273\n",
            "Accuracy: 0.9318181818181818\n",
            "Accuracy: 0.9602272727272727\n",
            "Accuracy: 0.9829545454545454\n",
            "For class:  5\n",
            "Best parameters: {'C': 0.001}\n",
            "Accuracy: 1.0\n",
            "w_1 value:  [[ 0.          0.00678563  0.03838924 -0.00315066  0.00970014  0.03765153\n",
            "   0.0189251  -0.017       0.          0.00271455  0.03516712  0.01732979\n",
            "  -0.01144424 -0.00556816 -0.0007277  -0.011       0.          0.00363361\n",
            "   0.02014951  0.00617079 -0.02780778 -0.08073668 -0.03606946 -0.002\n",
            "   0.          0.02014532  0.03788566  0.01049389  0.00266762 -0.00392168\n",
            "  -0.02699324  0.          0.         -0.00633416  0.01986438 -0.00209124\n",
            "  -0.00959237  0.00261582  0.00863306  0.          0.         -0.00601562\n",
            "  -0.03527358 -0.04557039 -0.01057263  0.00697537  0.01713267  0.\n",
            "   0.          0.00358266 -0.00863176 -0.01004611  0.00718013 -0.00585508\n",
            "  -0.00092256 -0.00123581  0.          0.00698943  0.02446812  0.01357891\n",
            "  -0.01498106 -0.02676226 -0.03247396 -0.01976639]]\n",
            "Accuracy: 0.9661016949152542\n",
            "Accuracy: 0.9491525423728814\n",
            "Accuracy: 0.9661016949152542\n",
            "Accuracy: 0.9548022598870056\n",
            "Accuracy: 0.9717514124293786\n",
            "For class:  6\n",
            "Best parameters: {'C': 0.0001}\n",
            "Accuracy: 1.0\n",
            "w_1 value:  [[ 0.         -0.0002     -0.01268604  0.0003828  -0.00415697 -0.00489897\n",
            "  -0.00309529  0.          0.         -0.00422132 -0.00939283  0.00343516\n",
            "  -0.01504076 -0.01787198 -0.00551449 -0.0007      0.         -0.00548073\n",
            "   0.00568497  0.00386316 -0.02147817 -0.02638799 -0.01090934 -0.0005\n",
            "   0.         -0.00292921  0.00620688  0.00185348 -0.01118117 -0.00889214\n",
            "  -0.01517118  0.          0.         -0.00022876  0.01471637  0.01509565\n",
            "   0.00447078  0.00761937 -0.00653247  0.          0.         -0.00392181\n",
            "   0.0235629   0.00971461 -0.00582393  0.00730854  0.01671362  0.0007\n",
            "   0.         -0.00302835  0.00586682  0.012011   -0.01143266  0.01567528\n",
            "   0.01701215 -0.0014      0.          0.         -0.01273134 -0.00418068\n",
            "   0.00943632  0.02270342  0.001639   -0.0033    ]]\n",
            "Accuracy: 0.9772727272727273\n",
            "Accuracy: 0.9715909090909091\n",
            "Accuracy: 0.9659090909090909\n",
            "Accuracy: 0.9715909090909091\n",
            "Accuracy: 0.9715909090909091\n",
            "For class:  7\n",
            "Best parameters: {'C': 0.01}\n",
            "Accuracy: 0.9285714285714286\n",
            "w_1 value:  [[ 0.          0.01471172  0.04075387  0.03138709  0.00736902  0.02844059\n",
            "   0.01080872  0.02563584  0.          0.00259248  0.0001265   0.02265348\n",
            "   0.07863308  0.04218715  0.01708255  0.01252783  0.          0.00690115\n",
            "  -0.05832128 -0.05882587 -0.01916763  0.01311303  0.04836638  0.00125374\n",
            "   0.         -0.00532713  0.00858326 -0.05590769  0.05140124  0.02377832\n",
            "   0.02687548  0.          0.          0.02797888 -0.01065629 -0.00313914\n",
            "  -0.0320129   0.03973231  0.01595425  0.          0.         -0.04964922\n",
            "   0.00297782  0.02227882  0.01059187  0.01800226 -0.021479    0.\n",
            "   0.         -0.01492406 -0.01827736  0.04286642 -0.04451558 -0.08245895\n",
            "  -0.02826852  0.          0.          0.01772479 -0.01368867 -0.08908131\n",
            "  -0.069307   -0.05898189 -0.0103776   0.        ]]\n",
            "Accuracy: 0.9828571428571429\n",
            "Accuracy: 0.9714285714285714\n",
            "Accuracy: 0.9714285714285714\n",
            "Accuracy: 0.9828571428571429\n",
            "Accuracy: 0.9714285714285714\n"
          ]
        }
      ]
    },
    {
      "cell_type": "markdown",
      "source": [
        "Models learned from small-sample set for all classes (1 to 7)"
      ],
      "metadata": {
        "id": "FT5nbORl4R8s"
      }
    },
    {
      "cell_type": "code",
      "source": [
        "model_X = np.array(model_X)\n",
        "model_X = model_X.reshape(40,64)"
      ],
      "metadata": {
        "id": "_qjhQ-84m5gE"
      },
      "execution_count": null,
      "outputs": []
    },
    {
      "cell_type": "markdown",
      "source": [
        "Models learned from large-sample set for all classes (1 to 7)"
      ],
      "metadata": {
        "id": "cvVv6LFW4XY0"
      }
    },
    {
      "cell_type": "code",
      "source": [
        "model_y = np.array(model_y)\n",
        "model_y = model_y.reshape(40,64)"
      ],
      "metadata": {
        "id": "KP6pAXrxjdLK"
      },
      "execution_count": null,
      "outputs": []
    },
    {
      "cell_type": "code",
      "source": [
        "X_train, X_test, y_train, y_test = split(model_X, model_y, test_size=0.1, shuffle=True, random_state=0)"
      ],
      "metadata": {
        "id": "nsjfNvSgj-qA"
      },
      "execution_count": null,
      "outputs": []
    },
    {
      "cell_type": "code",
      "source": [
        "from sklearn.preprocessing import StandardScaler\n",
        "\n",
        "scaler = StandardScaler()\n",
        "scaler.fit(X_train)\n",
        "\n",
        "X_train = scaler.transform(X_train)\n",
        "X_test = scaler.transform(X_test)\n"
      ],
      "metadata": {
        "id": "5S93lEah1250"
      },
      "execution_count": null,
      "outputs": []
    },
    {
      "cell_type": "markdown",
      "source": [
        "We are changing the label 0 to -1 for our data fitting calculation (i.e. for hinge loss calculation purpose)"
      ],
      "metadata": {
        "id": "fQoojal6WXmO"
      }
    },
    {
      "cell_type": "code",
      "source": [
        "subsampled_y = np.where(subsampled_y==0, -1, subsampled_y)"
      ],
      "metadata": {
        "id": "OsE5h2zXWGHK"
      },
      "execution_count": null,
      "outputs": []
    },
    {
      "cell_type": "markdown",
      "source": [
        "Now we are defining our final loss function i.e. myloss"
      ],
      "metadata": {
        "id": "f0lRXYZrp6uU"
      }
    },
    {
      "cell_type": "code",
      "source": [
        "from sklearn.model_selection import KFold\n",
        "from tensorflow.keras.models import Sequential\n",
        "from tensorflow.keras.layers import Dense, BatchNormalization, LeakyReLU\n",
        "from sklearn.metrics import mean_squared_error\n",
        "\n",
        "# Define the model architecture\n",
        "model = Sequential()\n",
        "model.add(Dense(32, input_dim=X_train.shape[1]))\n",
        "model.add(LeakyReLU(alpha=0.01))\n",
        "model.add(BatchNormalization())\n",
        "model.add(Dense(64))\n",
        "model.add(LeakyReLU(alpha=0.01))\n",
        "model.add(BatchNormalization())\n",
        "model.add(Dense(64, activation='linear'))\n",
        "\n",
        "sgd = tf.keras.optimizers.SGD(learning_rate=0.005, momentum=0.9)\n",
        "# Compile the model\n",
        "model.compile(loss='mse', optimizer=sgd, metrics=['mae', 'mse'])\n",
        "num_epochs = 30\n",
        "# k-fold cross validation\n",
        "\n",
        "mse_values = []\n",
        "\n",
        "for i in range(num_epochs):\n",
        "  # Fit the model\n",
        "  history = model.fit(X_train, y_train, epochs=1, batch_size=20, verbose=0)\n",
        "  y_pred = model.predict(X_train, verbose=0)\n",
        "  mse = mean_squared_error(y_train, y_pred)\n",
        "  mse_values.append(mse)\n",
        "\n",
        "plt.plot(range(num_epochs), mse_values)\n",
        "plt.xlabel('number of epoch')\n",
        "plt.ylabel('MSE')\n",
        "plt.title('MSE Over Time')\n",
        "plt.show()\n"
      ],
      "metadata": {
        "colab": {
          "base_uri": "https://localhost:8080/",
          "height": 472
        },
        "id": "rsbHFkyUonNQ",
        "outputId": "fadecf9b-45e9-46f6-ae81-d452a6caecb1"
      },
      "execution_count": null,
      "outputs": [
        {
          "output_type": "display_data",
          "data": {
            "text/plain": [
              "<Figure size 640x480 with 1 Axes>"
            ],
            "image/png": "[encoded data removed]"
          },
          "metadata": {}
        }
      ]
    },
    {
      "cell_type": "markdown",
      "source": [
        "Now applying test set from model pairs"
      ],
      "metadata": {
        "id": "s5JOi_FW3Mhm"
      }
    },
    {
      "cell_type": "code",
      "source": [
        "from sklearn.metrics import mean_squared_error, mean_absolute_error, r2_score\n",
        "\n",
        "y_pred = model.predict(X_test)\n",
        "mse = mean_squared_error(y_test, y_pred)\n",
        "rmse = np.sqrt(mse)\n",
        "mae = mean_absolute_error(y_test, y_pred)\n",
        "r2 = r2_score(y_test, y_pred)\n",
        "\n",
        "print(\"MSE:\", mse)\n",
        "print(\"RMSE:\", rmse)\n",
        "print(\"MAE:\", mae)\n",
        "print(\"R²:\", r2)\n"
      ],
      "metadata": {
        "colab": {
          "base_uri": "https://localhost:8080/"
        },
        "id": "HWlAMbfhlndK",
        "outputId": "d975cdfa-a255-431d-a24b-ec07fe2eafc0"
      },
      "execution_count": null,
      "outputs": [
        {
          "output_type": "stream",
          "name": "stdout",
          "text": [
            "1/1 [==============================] - 0s 29ms/step\n",
            "MSE: 0.09583770825963273\n",
            "RMSE: 0.30957665974622944\n",
            "MAE: 0.23289807290057274\n",
            "R²: -48124.10056012246\n"
          ]
        }
      ]
    },
    {
      "cell_type": "markdown",
      "source": [
        "Now we taking class label 9 as our Novel category"
      ],
      "metadata": {
        "id": "6Ge85U6HwJfD"
      }
    },
    {
      "cell_type": "code",
      "source": [
        "negative_examples_test = digits.data[digits.target != 9]\n",
        "num_negative_examples_test = 100\n",
        "negative_examples_subsampled = resample(negative_examples, n_samples=num_negative_examples, random_state=42)\n",
        "\n",
        "subsampled_X_test = np.vstack((digits.data[digits.target == 9], negative_examples_subsampled))\n",
        "subsampled_y_test = np.hstack((np.ones(np.count_nonzero(digits.target == 9)), np.zeros(num_negative_examples)))\n",
        "\n",
        "sample_nmuber = 40\n",
        "#taking indices for some randomly chosen samples from class 9\n",
        "idx = np.random.choice(subsampled_X_test.shape[0], sample_nmuber, replace=False)\n",
        "y = subsampled_y_test[idx]\n",
        "X_test = subsampled_X_test[idx]\n",
        "\n",
        "model_X_9 = []\n",
        "svm.fit(subsampled_X_test[idx], subsampled_y_test[idx]) #check point\n",
        "w_0 = svm.coef_\n",
        "model_X_9.append(w_0)\n",
        "model_X_9 = np.array(model_X_9)\n",
        "model_X_9 = model_X_9.reshape(1,64)\n"
      ],
      "metadata": {
        "id": "ZiBWpespv4eE"
      },
      "execution_count": null,
      "outputs": []
    },
    {
      "cell_type": "code",
      "source": [
        "y_pred = model.predict(model_X_9, verbose=0)\n",
        "y_pred"
      ],
      "metadata": {
        "id": "ACz7HIKr2FvU",
        "colab": {
          "base_uri": "https://localhost:8080/"
        },
        "outputId": "2f1b5a46-a524-4322-cdd3-205f7077936c"
      },
      "execution_count": null,
      "outputs": [
        {
          "output_type": "execute_result",
          "data": {
            "text/plain": [
              "array([[ 0.23766881, -0.00035942, -0.1198969 ,  0.0416749 ,  0.00777981,\n",
              "        -0.08836327, -0.01199505, -0.0198073 , -0.00982898, -0.11229623,\n",
              "        -0.20308238,  0.06865096,  0.03731804, -0.14029145, -0.00802674,\n",
              "         0.10002851, -0.18916525,  0.01375209, -0.11111052, -0.21123318,\n",
              "         0.0488158 ,  0.0417874 , -0.07274736, -0.26586175,  0.18009858,\n",
              "        -0.01136265,  0.01579745,  0.0390618 , -0.08597258, -0.02507419,\n",
              "         0.13728692,  0.05511844,  0.08562906,  0.04320615,  0.04507777,\n",
              "        -0.00535204,  0.0889722 ,  0.02221539,  0.28198585, -0.0615772 ,\n",
              "         0.05043445, -0.19730397,  0.15713872, -0.07230644,  0.2143389 ,\n",
              "         0.02277103, -0.15202582,  0.1667897 ,  0.08010168, -0.01141562,\n",
              "        -0.16814466,  0.10540062,  0.14752299, -0.00526822,  0.04766574,\n",
              "         0.16209231,  0.14040935,  0.08736528, -0.12439766, -0.03590206,\n",
              "         0.00846327, -0.27013573,  0.00487159,  0.02660709]],\n",
              "      dtype=float32)"
            ]
          },
          "metadata": {},
          "execution_count": 52
        }
      ]
    },
    {
      "cell_type": "code",
      "source": [
        "y = np.where(y==0, -1, y)\n",
        "y"
      ],
      "metadata": {
        "colab": {
          "base_uri": "https://localhost:8080/"
        },
        "id": "0DCJgxWB0kjV",
        "outputId": "bc7959a8-8b66-4fde-e748-54f19f73bfa6"
      },
      "execution_count": null,
      "outputs": [
        {
          "output_type": "execute_result",
          "data": {
            "text/plain": [
              "array([-1.,  1., -1.,  1.,  1.,  1., -1., -1.,  1.,  1.,  1., -1.,  1.,\n",
              "       -1.,  1.,  1.,  1.,  1.,  1.,  1.,  1., -1.,  1., -1., -1., -1.,\n",
              "       -1.,  1.,  1., -1., -1.,  1.,  1.,  1., -1., -1., -1.,  1.,  1.,\n",
              "        1.])"
            ]
          },
          "metadata": {},
          "execution_count": 68
        }
      ]
    },
    {
      "cell_type": "code",
      "source": [
        "def gradient_descent( grad, w_init, learning_rate=0.001, max_iterations=1000, tolerance=1e-6):\n",
        "    w = np.copy(w_init)\n",
        "    for i in range(max_iterations):\n",
        "        g = grad(w)\n",
        "        if np.linalg.norm(g) < tolerance:\n",
        "            break\n",
        "        w -= learning_rate * g\n",
        "    return w\n",
        "\n",
        "def grad(w):\n",
        "    s = 0\n",
        "    for i in range(sample_nmuber):\n",
        "       wTx = np.dot(w, X_test[i])\n",
        "       if 1 - y[i]*wTx > 0:\n",
        "          s -= y[i]*X_test[i]\n",
        "    return w - y_pred + 0.01*s\n"
      ],
      "metadata": {
        "id": "xy3llG_x2eYJ"
      },
      "execution_count": null,
      "outputs": []
    },
    {
      "cell_type": "code",
      "source": [
        "w_init = y_pred\n",
        "w_opt = gradient_descent(grad, w_init)\n",
        "print(w_opt)"
      ],
      "metadata": {
        "id": "PAGiQtQs39lq",
        "colab": {
          "base_uri": "https://localhost:8080/"
        },
        "outputId": "3f7353b2-8f0a-4009-bfe3-23887a23d457"
      },
      "execution_count": null,
      "outputs": [
        {
          "output_type": "stream",
          "name": "stdout",
          "text": [
            "[[ 0.23766881  0.00281361  0.00293661  0.10493966 -0.01269371 -0.0728367\n",
            "  -0.03801744 -0.0198073  -0.00982898 -0.1169004  -0.07909234 -0.07533632\n",
            "   0.00255334 -0.02139885 -0.04746188  0.10002851 -0.1893907   0.04490961\n",
            "  -0.08609226 -0.1954503   0.07894812  0.17552334 -0.09090615 -0.26586175\n",
            "   0.18009858 -0.00192999  0.05433025  0.14149186 -0.03796142  0.04222307\n",
            "   0.11849642  0.05511844  0.08562906 -0.02099425 -0.03578124  0.00458363\n",
            "  -0.02035363  0.04529136  0.25054938 -0.0615772   0.05043445 -0.23095407\n",
            "   0.00951335 -0.2278967   0.05231057  0.01695093 -0.10044333  0.15041792\n",
            "   0.08010168  0.01116685 -0.09350382  0.03090961 -0.04995297  0.00433766\n",
            "   0.09728774  0.15290947  0.14040935  0.08743966 -0.04618277  0.04268485\n",
            "   0.01950392 -0.16529593  0.0123308   0.01086535]]\n"
          ]
        }
      ]
    },
    {
      "cell_type": "code",
      "source": [
        "from sklearn.metrics import accuracy_score\n",
        "w_opt_T = w_opt.reshape(64,1)\n",
        "scores = np.dot(subsampled_X_test, w_opt_T)\n",
        "y_pred_test = np.sign(scores)\n",
        "acc = accuracy_score(subsampled_y_test, y_pred_test)\n",
        "print(\"Accuracy for our optimal w: \", acc)"
      ],
      "metadata": {
        "id": "dvHs66mL-yuw",
        "colab": {
          "base_uri": "https://localhost:8080/"
        },
        "outputId": "161e2a5f-8468-4228-b1f1-e5ee0d12f9d1"
      },
      "execution_count": null,
      "outputs": [
        {
          "output_type": "stream",
          "name": "stdout",
          "text": [
            "Accuracy for our optimal w:  0.8178571428571428\n"
          ]
        }
      ]
    }
  ]
}